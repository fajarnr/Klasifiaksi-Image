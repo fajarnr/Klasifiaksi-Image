{
 "cells": [
  {
   "cell_type": "code",
   "execution_count": 8,
   "metadata": {},
   "outputs": [],
   "source": [
    "import os\n",
    "import cv2\n",
    "import numpy as np\n",
    "import pandas as pd\n",
    "import mahotas as mt\n",
    "from matplotlib import pyplot as plt\n",
    "%matplotlib inline"
   ]
  },
  {
   "cell_type": "code",
   "execution_count": 9,
   "metadata": {},
   "outputs": [],
   "source": [
    "ds_path = '/Users/el/Documents/projectpython2023/coba simbok/dataset/cacat'\n",
    "img_files = os.listdir(ds_path)"
   ]
  },
  {
   "cell_type": "code",
   "execution_count": 10,
   "metadata": {},
   "outputs": [],
   "source": [
    "def create_dataset():\n",
    "    names = ['area','perimeter','physiological_length','physiological_width','aspect_ratio','rectangularity','circularity', \\\n",
    "             'mean_r','mean_g','mean_b','stddev_r','stddev_g','stddev_b', \\\n",
    "             'contrast','correlation','inverse_difference_moments','entropy'\n",
    "            ]\n",
    "    df = pd.DataFrame([], columns=names)\n",
    "    for file in img_files:\n",
    "        imgpath = ds_path + '/' + file\n",
    "        main_img = cv2.imread(imgpath)\n",
    "        \n",
    "        #Preprocessing\n",
    "        img = cv2.cvtColor(main_img, cv2.COLOR_BGR2RGB)\n",
    "        gs = cv2.cvtColor(img,cv2.COLOR_RGB2GRAY)\n",
    "        blur = cv2.GaussianBlur(gs, (25,25),0)\n",
    "        ret_otsu,im_bw_otsu = cv2.threshold(blur,0,255,cv2.THRESH_BINARY_INV+cv2.THRESH_OTSU)\n",
    "        kernel = np.ones((50,50),np.uint8)\n",
    "        closing = cv2.morphologyEx(im_bw_otsu, cv2.MORPH_CLOSE, kernel)\n",
    "        \n",
    "        #Shape features\n",
    "        contours, image= cv2.findContours(closing,cv2.RETR_TREE,cv2.CHAIN_APPROX_SIMPLE)\n",
    "        cnt = contours[0]\n",
    "        M = cv2.moments(cnt)\n",
    "        area = cv2.contourArea(cnt)\n",
    "        perimeter = cv2.arcLength(cnt,True)\n",
    "        x,y,w,h = cv2.boundingRect(cnt)\n",
    "        aspect_ratio = float(w)/h\n",
    "        rectangularity = w*h/area\n",
    "        circularity = ((perimeter)**2)/area\n",
    "        \n",
    "        #Color features\n",
    "        red_channel = img[:,:,0]\n",
    "        green_channel = img[:,:,1]\n",
    "        blue_channel = img[:,:,2]\n",
    "        blue_channel[blue_channel == 255] = 0\n",
    "        green_channel[green_channel == 255] = 0\n",
    "        red_channel[red_channel == 255] = 0\n",
    "        \n",
    "        red_mean = np.mean(red_channel)\n",
    "        green_mean = np.mean(green_channel)\n",
    "        blue_mean = np.mean(blue_channel)\n",
    "        \n",
    "        red_std = np.std(red_channel)\n",
    "        green_std = np.std(green_channel)\n",
    "        blue_std = np.std(blue_channel)\n",
    "        \n",
    "        #Texture features\n",
    "        textures = mt.features.haralick(gs)\n",
    "        ht_mean = textures.mean(axis=0)\n",
    "        contrast = ht_mean[1]\n",
    "        correlation = ht_mean[2]\n",
    "        inverse_diff_moments = ht_mean[4]\n",
    "        entropy = ht_mean[8]\n",
    "        \n",
    "        vector = [area,perimeter,w,h,aspect_ratio,rectangularity,circularity,\\\n",
    "                  red_mean,green_mean,blue_mean,red_std,green_std,blue_std,\\\n",
    "                  contrast,correlation,inverse_diff_moments,entropy\n",
    "                 ]\n",
    "        \n",
    "        df_temp = pd.DataFrame([vector],columns=names)\n",
    "        df = df.add(df_temp)\n",
    "        print(file)\n",
    "    return df"
   ]
  },
  {
   "cell_type": "code",
   "execution_count": 11,
   "metadata": {},
   "outputs": [
    {
     "name": "stderr",
     "output_type": "stream",
     "text": [
      "libpng warning: iCCP: known incorrect sRGB profile\n",
      "libpng warning: iCCP: known incorrect sRGB profile\n",
      "libpng warning: iCCP: known incorrect sRGB profile\n",
      "libpng warning: iCCP: known incorrect sRGB profile\n"
     ]
    },
    {
     "name": "stdout",
     "output_type": "stream",
     "text": [
      "hasil_20.png\n",
      "hasil_34.png\n",
      "hasil_35.png\n",
      "hasil_21.png\n",
      "hasil_37.png\n",
      "hasil_23.png\n",
      "hasil_22.png\n",
      "hasil_36.png\n"
     ]
    },
    {
     "name": "stderr",
     "output_type": "stream",
     "text": [
      "libpng warning: iCCP: known incorrect sRGB profile\n",
      "libpng warning: iCCP: known incorrect sRGB profile\n",
      "libpng warning: iCCP: known incorrect sRGB profile\n",
      "libpng warning: iCCP: known incorrect sRGB profile\n"
     ]
    },
    {
     "name": "stdout",
     "output_type": "stream",
     "text": [
      "hasil_100.png\n",
      "hasil_32.png\n",
      "hasil_26.png\n",
      "hasil_27.png\n",
      "hasil_33.png\n",
      "hasil_19.png\n",
      "hasil_25.png\n"
     ]
    },
    {
     "name": "stderr",
     "output_type": "stream",
     "text": [
      "libpng warning: iCCP: known incorrect sRGB profile\n",
      "libpng warning: iCCP: known incorrect sRGB profile\n",
      "libpng warning: iCCP: known incorrect sRGB profile\n",
      "libpng warning: iCCP: known incorrect sRGB profile\n"
     ]
    },
    {
     "name": "stdout",
     "output_type": "stream",
     "text": [
      "hasil_31.png\n",
      "hasil_30.png\n",
      "hasil_24.png\n",
      "hasil_18.png\n",
      "hasil_43.png\n",
      "hasil_57.png\n",
      "hasil_80.png\n",
      "hasil_94.png\n"
     ]
    },
    {
     "name": "stderr",
     "output_type": "stream",
     "text": [
      "libpng warning: iCCP: known incorrect sRGB profile\n",
      "libpng warning: iCCP: known incorrect sRGB profile\n",
      "libpng warning: iCCP: known incorrect sRGB profile\n",
      "libpng warning: iCCP: known incorrect sRGB profile\n",
      "libpng warning: iCCP: known incorrect sRGB profile\n"
     ]
    },
    {
     "name": "stdout",
     "output_type": "stream",
     "text": [
      "hasil_95.png\n",
      "hasil_81.png\n",
      "hasil_56.png\n",
      "hasil_42.png\n",
      "hasil_54.png\n",
      "hasil_40.png\n",
      "hasil_68.png\n",
      "hasil_97.png\n",
      "hasil_83.png\n",
      "hasil_9.png\n"
     ]
    },
    {
     "name": "stderr",
     "output_type": "stream",
     "text": [
      "libpng warning: iCCP: known incorrect sRGB profile\n",
      "libpng warning: iCCP: known incorrect sRGB profile\n"
     ]
    },
    {
     "ename": "ZeroDivisionError",
     "evalue": "float division by zero",
     "output_type": "error",
     "traceback": [
      "\u001b[0;31m---------------------------------------------------------------------------\u001b[0m",
      "\u001b[0;31mZeroDivisionError\u001b[0m                         Traceback (most recent call last)",
      "\u001b[1;32m/Users/el/Documents/projectpython2023/coba simbok/prepross.ipynb Cell 4\u001b[0m line \u001b[0;36m1\n\u001b[0;32m----> <a href='vscode-notebook-cell:/Users/el/Documents/projectpython2023/coba%20simbok/prepross.ipynb#W3sZmlsZQ%3D%3D?line=0'>1</a>\u001b[0m dataset \u001b[39m=\u001b[39m create_dataset()\n",
      "\u001b[1;32m/Users/el/Documents/projectpython2023/coba simbok/prepross.ipynb Cell 4\u001b[0m line \u001b[0;36m2\n\u001b[1;32m     <a href='vscode-notebook-cell:/Users/el/Documents/projectpython2023/coba%20simbok/prepross.ipynb#W3sZmlsZQ%3D%3D?line=24'>25</a>\u001b[0m x,y,w,h \u001b[39m=\u001b[39m cv2\u001b[39m.\u001b[39mboundingRect(cnt)\n\u001b[1;32m     <a href='vscode-notebook-cell:/Users/el/Documents/projectpython2023/coba%20simbok/prepross.ipynb#W3sZmlsZQ%3D%3D?line=25'>26</a>\u001b[0m aspect_ratio \u001b[39m=\u001b[39m \u001b[39mfloat\u001b[39m(w)\u001b[39m/\u001b[39mh\n\u001b[0;32m---> <a href='vscode-notebook-cell:/Users/el/Documents/projectpython2023/coba%20simbok/prepross.ipynb#W3sZmlsZQ%3D%3D?line=26'>27</a>\u001b[0m rectangularity \u001b[39m=\u001b[39m w\u001b[39m*\u001b[39;49mh\u001b[39m/\u001b[39;49marea\n\u001b[1;32m     <a href='vscode-notebook-cell:/Users/el/Documents/projectpython2023/coba%20simbok/prepross.ipynb#W3sZmlsZQ%3D%3D?line=27'>28</a>\u001b[0m circularity \u001b[39m=\u001b[39m ((perimeter)\u001b[39m*\u001b[39m\u001b[39m*\u001b[39m\u001b[39m2\u001b[39m)\u001b[39m/\u001b[39marea\n\u001b[1;32m     <a href='vscode-notebook-cell:/Users/el/Documents/projectpython2023/coba%20simbok/prepross.ipynb#W3sZmlsZQ%3D%3D?line=29'>30</a>\u001b[0m \u001b[39m#Color features\u001b[39;00m\n",
      "\u001b[0;31mZeroDivisionError\u001b[0m: float division by zero"
     ]
    }
   ],
   "source": [
    "dataset = create_dataset()"
   ]
  },
  {
   "cell_type": "code",
   "execution_count": 5,
   "metadata": {},
   "outputs": [
    {
     "data": {
      "text/plain": [
       "(1, 17)"
      ]
     },
     "execution_count": 5,
     "metadata": {},
     "output_type": "execute_result"
    }
   ],
   "source": [
    "dataset.shape"
   ]
  },
  {
   "cell_type": "code",
   "execution_count": 6,
   "metadata": {},
   "outputs": [
    {
     "data": {
      "text/plain": [
       "pandas.core.frame.DataFrame"
      ]
     },
     "execution_count": 6,
     "metadata": {},
     "output_type": "execute_result"
    }
   ],
   "source": [
    "type(dataset)"
   ]
  },
  {
   "cell_type": "code",
   "execution_count": 7,
   "metadata": {},
   "outputs": [],
   "source": [
    "dataset.to_csv(\"data_retak.csv\")"
   ]
  },
  {
   "cell_type": "code",
   "execution_count": null,
   "metadata": {},
   "outputs": [],
   "source": []
  }
 ],
 "metadata": {
  "kernelspec": {
   "display_name": "Python 3",
   "language": "python",
   "name": "python3"
  },
  "language_info": {
   "codemirror_mode": {
    "name": "ipython",
    "version": 3
   },
   "file_extension": ".py",
   "mimetype": "text/x-python",
   "name": "python",
   "nbconvert_exporter": "python",
   "pygments_lexer": "ipython3",
   "version": "3.11.2"
  }
 },
 "nbformat": 4,
 "nbformat_minor": 2
}
